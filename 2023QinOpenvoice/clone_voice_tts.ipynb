{
 "cells": [
  {
   "cell_type": "markdown",
   "metadata": {},
   "source": [
    "# Clone Voice"
   ]
  },
  {
   "cell_type": "markdown",
   "metadata": {},
   "source": [
    "### Important:"
   ]
  },
  {
   "cell_type": "markdown",
   "metadata": {},
   "source": [
    "This folder should be in relative path `OpenVoice/clone_voice.ipynb`\n",
    "If the `/OpenVoice` directory is empty, then:\n",
    "\n",
    "1. move this ipynb file out into `/2023QinOpenvoice` \n",
    "2. run the cell below\n",
    "3. move this script into `/2023QinOpenvoice/OpenVoice`"
   ]
  },
  {
   "cell_type": "code",
   "execution_count": null,
   "metadata": {},
   "outputs": [],
   "source": [
    "!git clone git@github.com:myshell-ai/OpenVoice.git"
   ]
  },
  {
   "cell_type": "code",
   "execution_count": 1,
   "metadata": {},
   "outputs": [
    {
     "name": "stdout",
     "output_type": "stream",
     "text": [
      "Obtaining file:///home/avzh1/Documents/personal/kirill/lipsync/2023QinOpenvoice/OpenVoice\n",
      "  Installing build dependencies ... \u001b[?25ldone\n",
      "\u001b[?25h  Checking if build backend supports build_editable ... \u001b[?25ldone\n",
      "\u001b[?25h  Getting requirements to build editable ... \u001b[?25ldone\n",
      "\u001b[?25h  Preparing editable metadata (pyproject.toml) ... \u001b[?25ldone\n",
      "\u001b[?25hRequirement already satisfied: librosa==0.9.1 in /home/avzh1/Documents/personal/kirill/lipsync/.venv/lib/python3.10/site-packages (from MyShell-OpenVoice==0.0.0) (0.9.1)\n",
      "Requirement already satisfied: faster-whisper==0.9.0 in /home/avzh1/Documents/personal/kirill/lipsync/.venv/lib/python3.10/site-packages (from MyShell-OpenVoice==0.0.0) (0.9.0)\n",
      "Requirement already satisfied: pydub==0.25.1 in /home/avzh1/Documents/personal/kirill/lipsync/.venv/lib/python3.10/site-packages (from MyShell-OpenVoice==0.0.0) (0.25.1)\n",
      "Requirement already satisfied: wavmark==0.0.3 in /home/avzh1/Documents/personal/kirill/lipsync/.venv/lib/python3.10/site-packages (from MyShell-OpenVoice==0.0.0) (0.0.3)\n",
      "Requirement already satisfied: numpy==1.22.0 in /home/avzh1/Documents/personal/kirill/lipsync/.venv/lib/python3.10/site-packages (from MyShell-OpenVoice==0.0.0) (1.22.0)\n",
      "Requirement already satisfied: eng-to-ipa==0.0.2 in /home/avzh1/Documents/personal/kirill/lipsync/.venv/lib/python3.10/site-packages (from MyShell-OpenVoice==0.0.0) (0.0.2)\n",
      "Requirement already satisfied: inflect==7.0.0 in /home/avzh1/Documents/personal/kirill/lipsync/.venv/lib/python3.10/site-packages (from MyShell-OpenVoice==0.0.0) (7.0.0)\n",
      "Requirement already satisfied: unidecode==1.3.7 in /home/avzh1/Documents/personal/kirill/lipsync/.venv/lib/python3.10/site-packages (from MyShell-OpenVoice==0.0.0) (1.3.7)\n",
      "Requirement already satisfied: whisper-timestamped==1.14.2 in /home/avzh1/Documents/personal/kirill/lipsync/.venv/lib/python3.10/site-packages (from MyShell-OpenVoice==0.0.0) (1.14.2)\n",
      "Requirement already satisfied: pypinyin==0.50.0 in /home/avzh1/Documents/personal/kirill/lipsync/.venv/lib/python3.10/site-packages (from MyShell-OpenVoice==0.0.0) (0.50.0)\n",
      "Requirement already satisfied: cn2an==0.5.22 in /home/avzh1/Documents/personal/kirill/lipsync/.venv/lib/python3.10/site-packages (from MyShell-OpenVoice==0.0.0) (0.5.22)\n",
      "Requirement already satisfied: jieba==0.42.1 in /home/avzh1/Documents/personal/kirill/lipsync/.venv/lib/python3.10/site-packages (from MyShell-OpenVoice==0.0.0) (0.42.1)\n",
      "Requirement already satisfied: gradio==3.48.0 in /home/avzh1/Documents/personal/kirill/lipsync/.venv/lib/python3.10/site-packages (from MyShell-OpenVoice==0.0.0) (3.48.0)\n",
      "Requirement already satisfied: langid==1.1.6 in /home/avzh1/Documents/personal/kirill/lipsync/.venv/lib/python3.10/site-packages (from MyShell-OpenVoice==0.0.0) (1.1.6)\n",
      "Requirement already satisfied: setuptools>=47.3.1 in /home/avzh1/Documents/personal/kirill/lipsync/.venv/lib/python3.10/site-packages (from cn2an==0.5.22->MyShell-OpenVoice==0.0.0) (59.6.0)\n",
      "Requirement already satisfied: proces>=0.1.3 in /home/avzh1/Documents/personal/kirill/lipsync/.venv/lib/python3.10/site-packages (from cn2an==0.5.22->MyShell-OpenVoice==0.0.0) (0.1.7)\n",
      "Requirement already satisfied: av==10.* in /home/avzh1/Documents/personal/kirill/lipsync/.venv/lib/python3.10/site-packages (from faster-whisper==0.9.0->MyShell-OpenVoice==0.0.0) (10.0.0)\n",
      "Requirement already satisfied: ctranslate2<4,>=3.17 in /home/avzh1/Documents/personal/kirill/lipsync/.venv/lib/python3.10/site-packages (from faster-whisper==0.9.0->MyShell-OpenVoice==0.0.0) (3.24.0)\n",
      "Requirement already satisfied: huggingface-hub>=0.13 in /home/avzh1/Documents/personal/kirill/lipsync/.venv/lib/python3.10/site-packages (from faster-whisper==0.9.0->MyShell-OpenVoice==0.0.0) (0.17.3)\n",
      "Requirement already satisfied: tokenizers<0.15,>=0.13 in /home/avzh1/Documents/personal/kirill/lipsync/.venv/lib/python3.10/site-packages (from faster-whisper==0.9.0->MyShell-OpenVoice==0.0.0) (0.13.3)\n",
      "Requirement already satisfied: onnxruntime<2,>=1.14 in /home/avzh1/Documents/personal/kirill/lipsync/.venv/lib/python3.10/site-packages (from faster-whisper==0.9.0->MyShell-OpenVoice==0.0.0) (1.19.2)\n",
      "Requirement already satisfied: aiofiles<24.0,>=22.0 in /home/avzh1/Documents/personal/kirill/lipsync/.venv/lib/python3.10/site-packages (from gradio==3.48.0->MyShell-OpenVoice==0.0.0) (23.2.1)\n",
      "Requirement already satisfied: altair<6.0,>=4.2.0 in /home/avzh1/Documents/personal/kirill/lipsync/.venv/lib/python3.10/site-packages (from gradio==3.48.0->MyShell-OpenVoice==0.0.0) (5.4.1)\n",
      "Requirement already satisfied: fastapi in /home/avzh1/Documents/personal/kirill/lipsync/.venv/lib/python3.10/site-packages (from gradio==3.48.0->MyShell-OpenVoice==0.0.0) (0.114.1)\n",
      "Requirement already satisfied: ffmpy in /home/avzh1/Documents/personal/kirill/lipsync/.venv/lib/python3.10/site-packages (from gradio==3.48.0->MyShell-OpenVoice==0.0.0) (0.4.0)\n",
      "Requirement already satisfied: gradio-client==0.6.1 in /home/avzh1/Documents/personal/kirill/lipsync/.venv/lib/python3.10/site-packages (from gradio==3.48.0->MyShell-OpenVoice==0.0.0) (0.6.1)\n",
      "Requirement already satisfied: httpx in /home/avzh1/Documents/personal/kirill/lipsync/.venv/lib/python3.10/site-packages (from gradio==3.48.0->MyShell-OpenVoice==0.0.0) (0.27.2)\n",
      "Requirement already satisfied: importlib-resources<7.0,>=1.3 in /home/avzh1/Documents/personal/kirill/lipsync/.venv/lib/python3.10/site-packages (from gradio==3.48.0->MyShell-OpenVoice==0.0.0) (6.4.5)\n",
      "Requirement already satisfied: jinja2<4.0 in /home/avzh1/Documents/personal/kirill/lipsync/.venv/lib/python3.10/site-packages (from gradio==3.48.0->MyShell-OpenVoice==0.0.0) (3.1.4)\n",
      "Requirement already satisfied: markupsafe~=2.0 in /home/avzh1/Documents/personal/kirill/lipsync/.venv/lib/python3.10/site-packages (from gradio==3.48.0->MyShell-OpenVoice==0.0.0) (2.1.5)\n",
      "Requirement already satisfied: matplotlib~=3.0 in /home/avzh1/Documents/personal/kirill/lipsync/.venv/lib/python3.10/site-packages (from gradio==3.48.0->MyShell-OpenVoice==0.0.0) (3.8.4)\n",
      "Requirement already satisfied: orjson~=3.0 in /home/avzh1/Documents/personal/kirill/lipsync/.venv/lib/python3.10/site-packages (from gradio==3.48.0->MyShell-OpenVoice==0.0.0) (3.10.7)\n",
      "Requirement already satisfied: packaging in /home/avzh1/Documents/personal/kirill/lipsync/.venv/lib/python3.10/site-packages (from gradio==3.48.0->MyShell-OpenVoice==0.0.0) (24.1)\n",
      "Requirement already satisfied: pandas<3.0,>=1.0 in /home/avzh1/Documents/personal/kirill/lipsync/.venv/lib/python3.10/site-packages (from gradio==3.48.0->MyShell-OpenVoice==0.0.0) (2.0.3)\n",
      "Requirement already satisfied: pillow<11.0,>=8.0 in /home/avzh1/Documents/personal/kirill/lipsync/.venv/lib/python3.10/site-packages (from gradio==3.48.0->MyShell-OpenVoice==0.0.0) (10.4.0)\n",
      "Requirement already satisfied: pydantic!=1.8,!=1.8.1,!=2.0.0,!=2.0.1,<3.0.0,>=1.7.4 in /home/avzh1/Documents/personal/kirill/lipsync/.venv/lib/python3.10/site-packages (from gradio==3.48.0->MyShell-OpenVoice==0.0.0) (2.9.1)\n",
      "Requirement already satisfied: python-multipart in /home/avzh1/Documents/personal/kirill/lipsync/.venv/lib/python3.10/site-packages (from gradio==3.48.0->MyShell-OpenVoice==0.0.0) (0.0.9)\n",
      "Requirement already satisfied: pyyaml<7.0,>=5.0 in /home/avzh1/Documents/personal/kirill/lipsync/.venv/lib/python3.10/site-packages (from gradio==3.48.0->MyShell-OpenVoice==0.0.0) (6.0.2)\n",
      "Requirement already satisfied: requests~=2.0 in /home/avzh1/Documents/personal/kirill/lipsync/.venv/lib/python3.10/site-packages (from gradio==3.48.0->MyShell-OpenVoice==0.0.0) (2.32.3)\n",
      "Requirement already satisfied: semantic-version~=2.0 in /home/avzh1/Documents/personal/kirill/lipsync/.venv/lib/python3.10/site-packages (from gradio==3.48.0->MyShell-OpenVoice==0.0.0) (2.10.0)\n",
      "Requirement already satisfied: typing-extensions~=4.0 in /home/avzh1/Documents/personal/kirill/lipsync/.venv/lib/python3.10/site-packages (from gradio==3.48.0->MyShell-OpenVoice==0.0.0) (4.12.2)\n",
      "Requirement already satisfied: uvicorn>=0.14.0 in /home/avzh1/Documents/personal/kirill/lipsync/.venv/lib/python3.10/site-packages (from gradio==3.48.0->MyShell-OpenVoice==0.0.0) (0.30.6)\n",
      "Requirement already satisfied: websockets<12.0,>=10.0 in /home/avzh1/Documents/personal/kirill/lipsync/.venv/lib/python3.10/site-packages (from gradio==3.48.0->MyShell-OpenVoice==0.0.0) (11.0.3)\n",
      "Requirement already satisfied: audioread>=2.1.5 in /home/avzh1/Documents/personal/kirill/lipsync/.venv/lib/python3.10/site-packages (from librosa==0.9.1->MyShell-OpenVoice==0.0.0) (3.0.1)\n",
      "Requirement already satisfied: scipy>=1.2.0 in /home/avzh1/Documents/personal/kirill/lipsync/.venv/lib/python3.10/site-packages (from librosa==0.9.1->MyShell-OpenVoice==0.0.0) (1.11.4)\n",
      "Requirement already satisfied: scikit-learn>=0.19.1 in /home/avzh1/Documents/personal/kirill/lipsync/.venv/lib/python3.10/site-packages (from librosa==0.9.1->MyShell-OpenVoice==0.0.0) (1.5.2)\n",
      "Requirement already satisfied: joblib>=0.14 in /home/avzh1/Documents/personal/kirill/lipsync/.venv/lib/python3.10/site-packages (from librosa==0.9.1->MyShell-OpenVoice==0.0.0) (1.4.2)\n",
      "Requirement already satisfied: decorator>=4.0.10 in /home/avzh1/Documents/personal/kirill/lipsync/.venv/lib/python3.10/site-packages (from librosa==0.9.1->MyShell-OpenVoice==0.0.0) (5.1.1)\n",
      "Requirement already satisfied: resampy>=0.2.2 in /home/avzh1/Documents/personal/kirill/lipsync/.venv/lib/python3.10/site-packages (from librosa==0.9.1->MyShell-OpenVoice==0.0.0) (0.4.3)\n",
      "Requirement already satisfied: numba>=0.45.1 in /home/avzh1/Documents/personal/kirill/lipsync/.venv/lib/python3.10/site-packages (from librosa==0.9.1->MyShell-OpenVoice==0.0.0) (0.60.0)\n",
      "Requirement already satisfied: soundfile>=0.10.2 in /home/avzh1/Documents/personal/kirill/lipsync/.venv/lib/python3.10/site-packages (from librosa==0.9.1->MyShell-OpenVoice==0.0.0) (0.12.1)\n",
      "Requirement already satisfied: pooch>=1.0 in /home/avzh1/Documents/personal/kirill/lipsync/.venv/lib/python3.10/site-packages (from librosa==0.9.1->MyShell-OpenVoice==0.0.0) (1.8.2)\n",
      "Collecting torch (from wavmark==0.0.3->MyShell-OpenVoice==0.0.0)\n",
      "  Using cached torch-2.4.1-cp310-cp310-manylinux1_x86_64.whl.metadata (26 kB)\n",
      "Requirement already satisfied: torchaudio in /home/avzh1/Documents/personal/kirill/lipsync/.venv/lib/python3.10/site-packages (from wavmark==0.0.3->MyShell-OpenVoice==0.0.0) (2.3.1)\n",
      "Requirement already satisfied: tqdm in /home/avzh1/Documents/personal/kirill/lipsync/.venv/lib/python3.10/site-packages (from wavmark==0.0.3->MyShell-OpenVoice==0.0.0) (4.66.5)\n",
      "Requirement already satisfied: Cython in /home/avzh1/Documents/personal/kirill/lipsync/.venv/lib/python3.10/site-packages (from whisper-timestamped==1.14.2->MyShell-OpenVoice==0.0.0) (3.0.11)\n",
      "Requirement already satisfied: dtw-python in /home/avzh1/Documents/personal/kirill/lipsync/.venv/lib/python3.10/site-packages (from whisper-timestamped==1.14.2->MyShell-OpenVoice==0.0.0) (1.4.4)\n",
      "Requirement already satisfied: openai-whisper in /home/avzh1/Documents/personal/kirill/lipsync/.venv/lib/python3.10/site-packages (from whisper-timestamped==1.14.2->MyShell-OpenVoice==0.0.0) (20231117)\n",
      "Requirement already satisfied: fsspec in /home/avzh1/Documents/personal/kirill/lipsync/.venv/lib/python3.10/site-packages (from gradio-client==0.6.1->gradio==3.48.0->MyShell-OpenVoice==0.0.0) (2024.9.0)\n",
      "Requirement already satisfied: jsonschema>=3.0 in /home/avzh1/Documents/personal/kirill/lipsync/.venv/lib/python3.10/site-packages (from altair<6.0,>=4.2.0->gradio==3.48.0->MyShell-OpenVoice==0.0.0) (4.23.0)\n",
      "Requirement already satisfied: narwhals>=1.5.2 in /home/avzh1/Documents/personal/kirill/lipsync/.venv/lib/python3.10/site-packages (from altair<6.0,>=4.2.0->gradio==3.48.0->MyShell-OpenVoice==0.0.0) (1.7.0)\n",
      "Requirement already satisfied: filelock in /home/avzh1/Documents/personal/kirill/lipsync/.venv/lib/python3.10/site-packages (from huggingface-hub>=0.13->faster-whisper==0.9.0->MyShell-OpenVoice==0.0.0) (3.13.4)\n",
      "Requirement already satisfied: contourpy>=1.0.1 in /home/avzh1/Documents/personal/kirill/lipsync/.venv/lib/python3.10/site-packages (from matplotlib~=3.0->gradio==3.48.0->MyShell-OpenVoice==0.0.0) (1.2.1)\n",
      "Requirement already satisfied: cycler>=0.10 in /home/avzh1/Documents/personal/kirill/lipsync/.venv/lib/python3.10/site-packages (from matplotlib~=3.0->gradio==3.48.0->MyShell-OpenVoice==0.0.0) (0.12.1)\n",
      "Requirement already satisfied: fonttools>=4.22.0 in /home/avzh1/Documents/personal/kirill/lipsync/.venv/lib/python3.10/site-packages (from matplotlib~=3.0->gradio==3.48.0->MyShell-OpenVoice==0.0.0) (4.53.1)\n",
      "Requirement already satisfied: kiwisolver>=1.3.1 in /home/avzh1/Documents/personal/kirill/lipsync/.venv/lib/python3.10/site-packages (from matplotlib~=3.0->gradio==3.48.0->MyShell-OpenVoice==0.0.0) (1.4.7)\n",
      "Requirement already satisfied: pyparsing>=2.3.1 in /home/avzh1/Documents/personal/kirill/lipsync/.venv/lib/python3.10/site-packages (from matplotlib~=3.0->gradio==3.48.0->MyShell-OpenVoice==0.0.0) (3.1.4)\n",
      "Requirement already satisfied: python-dateutil>=2.7 in /home/avzh1/Documents/personal/kirill/lipsync/.venv/lib/python3.10/site-packages (from matplotlib~=3.0->gradio==3.48.0->MyShell-OpenVoice==0.0.0) (2.9.0.post0)\n",
      "Requirement already satisfied: llvmlite<0.44,>=0.43.0dev0 in /home/avzh1/Documents/personal/kirill/lipsync/.venv/lib/python3.10/site-packages (from numba>=0.45.1->librosa==0.9.1->MyShell-OpenVoice==0.0.0) (0.43.0)\n",
      "Requirement already satisfied: coloredlogs in /home/avzh1/Documents/personal/kirill/lipsync/.venv/lib/python3.10/site-packages (from onnxruntime<2,>=1.14->faster-whisper==0.9.0->MyShell-OpenVoice==0.0.0) (15.0.1)\n",
      "Requirement already satisfied: flatbuffers in /home/avzh1/Documents/personal/kirill/lipsync/.venv/lib/python3.10/site-packages (from onnxruntime<2,>=1.14->faster-whisper==0.9.0->MyShell-OpenVoice==0.0.0) (24.3.25)\n",
      "Requirement already satisfied: protobuf in /home/avzh1/Documents/personal/kirill/lipsync/.venv/lib/python3.10/site-packages (from onnxruntime<2,>=1.14->faster-whisper==0.9.0->MyShell-OpenVoice==0.0.0) (5.28.1)\n",
      "Requirement already satisfied: sympy in /home/avzh1/Documents/personal/kirill/lipsync/.venv/lib/python3.10/site-packages (from onnxruntime<2,>=1.14->faster-whisper==0.9.0->MyShell-OpenVoice==0.0.0) (1.13.2)\n",
      "Requirement already satisfied: pytz>=2020.1 in /home/avzh1/Documents/personal/kirill/lipsync/.venv/lib/python3.10/site-packages (from pandas<3.0,>=1.0->gradio==3.48.0->MyShell-OpenVoice==0.0.0) (2024.2)\n",
      "Requirement already satisfied: tzdata>=2022.1 in /home/avzh1/Documents/personal/kirill/lipsync/.venv/lib/python3.10/site-packages (from pandas<3.0,>=1.0->gradio==3.48.0->MyShell-OpenVoice==0.0.0) (2024.1)\n",
      "Requirement already satisfied: platformdirs>=2.5.0 in /home/avzh1/Documents/personal/kirill/lipsync/.venv/lib/python3.10/site-packages (from pooch>=1.0->librosa==0.9.1->MyShell-OpenVoice==0.0.0) (4.3.2)\n",
      "Requirement already satisfied: annotated-types>=0.6.0 in /home/avzh1/Documents/personal/kirill/lipsync/.venv/lib/python3.10/site-packages (from pydantic!=1.8,!=1.8.1,!=2.0.0,!=2.0.1,<3.0.0,>=1.7.4->gradio==3.48.0->MyShell-OpenVoice==0.0.0) (0.7.0)\n",
      "Requirement already satisfied: pydantic-core==2.23.3 in /home/avzh1/Documents/personal/kirill/lipsync/.venv/lib/python3.10/site-packages (from pydantic!=1.8,!=1.8.1,!=2.0.0,!=2.0.1,<3.0.0,>=1.7.4->gradio==3.48.0->MyShell-OpenVoice==0.0.0) (2.23.3)\n",
      "Requirement already satisfied: charset-normalizer<4,>=2 in /home/avzh1/Documents/personal/kirill/lipsync/.venv/lib/python3.10/site-packages (from requests~=2.0->gradio==3.48.0->MyShell-OpenVoice==0.0.0) (3.3.2)\n",
      "Requirement already satisfied: idna<4,>=2.5 in /home/avzh1/Documents/personal/kirill/lipsync/.venv/lib/python3.10/site-packages (from requests~=2.0->gradio==3.48.0->MyShell-OpenVoice==0.0.0) (3.8)\n",
      "Requirement already satisfied: urllib3<3,>=1.21.1 in /home/avzh1/Documents/personal/kirill/lipsync/.venv/lib/python3.10/site-packages (from requests~=2.0->gradio==3.48.0->MyShell-OpenVoice==0.0.0) (2.2.3)\n",
      "Requirement already satisfied: certifi>=2017.4.17 in /home/avzh1/Documents/personal/kirill/lipsync/.venv/lib/python3.10/site-packages (from requests~=2.0->gradio==3.48.0->MyShell-OpenVoice==0.0.0) (2024.8.30)\n",
      "Requirement already satisfied: threadpoolctl>=3.1.0 in /home/avzh1/Documents/personal/kirill/lipsync/.venv/lib/python3.10/site-packages (from scikit-learn>=0.19.1->librosa==0.9.1->MyShell-OpenVoice==0.0.0) (3.5.0)\n",
      "Requirement already satisfied: cffi>=1.0 in /home/avzh1/Documents/personal/kirill/lipsync/.venv/lib/python3.10/site-packages (from soundfile>=0.10.2->librosa==0.9.1->MyShell-OpenVoice==0.0.0) (1.17.1)\n",
      "Requirement already satisfied: click>=7.0 in /home/avzh1/Documents/personal/kirill/lipsync/.venv/lib/python3.10/site-packages (from uvicorn>=0.14.0->gradio==3.48.0->MyShell-OpenVoice==0.0.0) (8.1.7)\n",
      "Requirement already satisfied: h11>=0.8 in /home/avzh1/Documents/personal/kirill/lipsync/.venv/lib/python3.10/site-packages (from uvicorn>=0.14.0->gradio==3.48.0->MyShell-OpenVoice==0.0.0) (0.14.0)\n",
      "Requirement already satisfied: starlette<0.39.0,>=0.37.2 in /home/avzh1/Documents/personal/kirill/lipsync/.venv/lib/python3.10/site-packages (from fastapi->gradio==3.48.0->MyShell-OpenVoice==0.0.0) (0.38.5)\n",
      "Requirement already satisfied: anyio in /home/avzh1/Documents/personal/kirill/lipsync/.venv/lib/python3.10/site-packages (from httpx->gradio==3.48.0->MyShell-OpenVoice==0.0.0) (4.4.0)\n",
      "Requirement already satisfied: httpcore==1.* in /home/avzh1/Documents/personal/kirill/lipsync/.venv/lib/python3.10/site-packages (from httpx->gradio==3.48.0->MyShell-OpenVoice==0.0.0) (1.0.5)\n",
      "Requirement already satisfied: sniffio in /home/avzh1/Documents/personal/kirill/lipsync/.venv/lib/python3.10/site-packages (from httpx->gradio==3.48.0->MyShell-OpenVoice==0.0.0) (1.3.1)\n",
      "Requirement already satisfied: triton<3,>=2.0.0 in /home/avzh1/Documents/personal/kirill/lipsync/.venv/lib/python3.10/site-packages (from openai-whisper->whisper-timestamped==1.14.2->MyShell-OpenVoice==0.0.0) (2.3.1)\n",
      "Requirement already satisfied: more-itertools in /home/avzh1/Documents/personal/kirill/lipsync/.venv/lib/python3.10/site-packages (from openai-whisper->whisper-timestamped==1.14.2->MyShell-OpenVoice==0.0.0) (10.5.0)\n",
      "Requirement already satisfied: tiktoken in /home/avzh1/Documents/personal/kirill/lipsync/.venv/lib/python3.10/site-packages (from openai-whisper->whisper-timestamped==1.14.2->MyShell-OpenVoice==0.0.0) (0.7.0)\n",
      "Requirement already satisfied: networkx in /home/avzh1/Documents/personal/kirill/lipsync/.venv/lib/python3.10/site-packages (from torch->wavmark==0.0.3->MyShell-OpenVoice==0.0.0) (2.8.8)\n",
      "Requirement already satisfied: nvidia-cuda-nvrtc-cu12==12.1.105 in /home/avzh1/Documents/personal/kirill/lipsync/.venv/lib/python3.10/site-packages (from torch->wavmark==0.0.3->MyShell-OpenVoice==0.0.0) (12.1.105)\n",
      "Requirement already satisfied: nvidia-cuda-runtime-cu12==12.1.105 in /home/avzh1/Documents/personal/kirill/lipsync/.venv/lib/python3.10/site-packages (from torch->wavmark==0.0.3->MyShell-OpenVoice==0.0.0) (12.1.105)\n",
      "Requirement already satisfied: nvidia-cuda-cupti-cu12==12.1.105 in /home/avzh1/Documents/personal/kirill/lipsync/.venv/lib/python3.10/site-packages (from torch->wavmark==0.0.3->MyShell-OpenVoice==0.0.0) (12.1.105)\n",
      "Collecting nvidia-cudnn-cu12==9.1.0.70 (from torch->wavmark==0.0.3->MyShell-OpenVoice==0.0.0)\n",
      "  Using cached nvidia_cudnn_cu12-9.1.0.70-py3-none-manylinux2014_x86_64.whl.metadata (1.6 kB)\n",
      "Requirement already satisfied: nvidia-cublas-cu12==12.1.3.1 in /home/avzh1/Documents/personal/kirill/lipsync/.venv/lib/python3.10/site-packages (from torch->wavmark==0.0.3->MyShell-OpenVoice==0.0.0) (12.1.3.1)\n",
      "Requirement already satisfied: nvidia-cufft-cu12==11.0.2.54 in /home/avzh1/Documents/personal/kirill/lipsync/.venv/lib/python3.10/site-packages (from torch->wavmark==0.0.3->MyShell-OpenVoice==0.0.0) (11.0.2.54)\n",
      "Requirement already satisfied: nvidia-curand-cu12==10.3.2.106 in /home/avzh1/Documents/personal/kirill/lipsync/.venv/lib/python3.10/site-packages (from torch->wavmark==0.0.3->MyShell-OpenVoice==0.0.0) (10.3.2.106)\n",
      "Requirement already satisfied: nvidia-cusolver-cu12==11.4.5.107 in /home/avzh1/Documents/personal/kirill/lipsync/.venv/lib/python3.10/site-packages (from torch->wavmark==0.0.3->MyShell-OpenVoice==0.0.0) (11.4.5.107)\n",
      "Requirement already satisfied: nvidia-cusparse-cu12==12.1.0.106 in /home/avzh1/Documents/personal/kirill/lipsync/.venv/lib/python3.10/site-packages (from torch->wavmark==0.0.3->MyShell-OpenVoice==0.0.0) (12.1.0.106)\n",
      "Requirement already satisfied: nvidia-nccl-cu12==2.20.5 in /home/avzh1/Documents/personal/kirill/lipsync/.venv/lib/python3.10/site-packages (from torch->wavmark==0.0.3->MyShell-OpenVoice==0.0.0) (2.20.5)\n",
      "Requirement already satisfied: nvidia-nvtx-cu12==12.1.105 in /home/avzh1/Documents/personal/kirill/lipsync/.venv/lib/python3.10/site-packages (from torch->wavmark==0.0.3->MyShell-OpenVoice==0.0.0) (12.1.105)\n",
      "INFO: pip is looking at multiple versions of torch to determine which version is compatible with other requirements. This could take a while.\n",
      "Collecting torch (from wavmark==0.0.3->MyShell-OpenVoice==0.0.0)\n",
      "  Using cached torch-2.4.0-cp310-cp310-manylinux1_x86_64.whl.metadata (26 kB)\n",
      "  Using cached torch-2.3.1-cp310-cp310-manylinux1_x86_64.whl.metadata (26 kB)\n",
      "Requirement already satisfied: nvidia-cudnn-cu12==8.9.2.26 in /home/avzh1/Documents/personal/kirill/lipsync/.venv/lib/python3.10/site-packages (from torch->wavmark==0.0.3->MyShell-OpenVoice==0.0.0) (8.9.2.26)\n",
      "Requirement already satisfied: nvidia-nvjitlink-cu12 in /home/avzh1/Documents/personal/kirill/lipsync/.venv/lib/python3.10/site-packages (from nvidia-cusolver-cu12==11.4.5.107->torch->wavmark==0.0.3->MyShell-OpenVoice==0.0.0) (12.6.68)\n",
      "Requirement already satisfied: pycparser in /home/avzh1/Documents/personal/kirill/lipsync/.venv/lib/python3.10/site-packages (from cffi>=1.0->soundfile>=0.10.2->librosa==0.9.1->MyShell-OpenVoice==0.0.0) (2.22)\n",
      "Requirement already satisfied: attrs>=22.2.0 in /home/avzh1/Documents/personal/kirill/lipsync/.venv/lib/python3.10/site-packages (from jsonschema>=3.0->altair<6.0,>=4.2.0->gradio==3.48.0->MyShell-OpenVoice==0.0.0) (24.2.0)\n",
      "Requirement already satisfied: jsonschema-specifications>=2023.03.6 in /home/avzh1/Documents/personal/kirill/lipsync/.venv/lib/python3.10/site-packages (from jsonschema>=3.0->altair<6.0,>=4.2.0->gradio==3.48.0->MyShell-OpenVoice==0.0.0) (2023.12.1)\n",
      "Requirement already satisfied: referencing>=0.28.4 in /home/avzh1/Documents/personal/kirill/lipsync/.venv/lib/python3.10/site-packages (from jsonschema>=3.0->altair<6.0,>=4.2.0->gradio==3.48.0->MyShell-OpenVoice==0.0.0) (0.35.1)\n",
      "Requirement already satisfied: rpds-py>=0.7.1 in /home/avzh1/Documents/personal/kirill/lipsync/.venv/lib/python3.10/site-packages (from jsonschema>=3.0->altair<6.0,>=4.2.0->gradio==3.48.0->MyShell-OpenVoice==0.0.0) (0.20.0)\n",
      "Requirement already satisfied: six>=1.5 in /home/avzh1/Documents/personal/kirill/lipsync/.venv/lib/python3.10/site-packages (from python-dateutil>=2.7->matplotlib~=3.0->gradio==3.48.0->MyShell-OpenVoice==0.0.0) (1.16.0)\n",
      "Requirement already satisfied: exceptiongroup>=1.0.2 in /home/avzh1/Documents/personal/kirill/lipsync/.venv/lib/python3.10/site-packages (from anyio->httpx->gradio==3.48.0->MyShell-OpenVoice==0.0.0) (1.2.2)\n",
      "Requirement already satisfied: humanfriendly>=9.1 in /home/avzh1/Documents/personal/kirill/lipsync/.venv/lib/python3.10/site-packages (from coloredlogs->onnxruntime<2,>=1.14->faster-whisper==0.9.0->MyShell-OpenVoice==0.0.0) (10.0)\n",
      "Requirement already satisfied: mpmath<1.4,>=1.1.0 in /home/avzh1/Documents/personal/kirill/lipsync/.venv/lib/python3.10/site-packages (from sympy->onnxruntime<2,>=1.14->faster-whisper==0.9.0->MyShell-OpenVoice==0.0.0) (1.3.0)\n",
      "Requirement already satisfied: regex>=2022.1.18 in /home/avzh1/Documents/personal/kirill/lipsync/.venv/lib/python3.10/site-packages (from tiktoken->openai-whisper->whisper-timestamped==1.14.2->MyShell-OpenVoice==0.0.0) (2024.9.11)\n",
      "Using cached torch-2.3.1-cp310-cp310-manylinux1_x86_64.whl (779.1 MB)\n",
      "Building wheels for collected packages: MyShell-OpenVoice\n",
      "  Building editable for MyShell-OpenVoice (pyproject.toml) ... \u001b[?25ldone\n",
      "\u001b[?25h  Created wheel for MyShell-OpenVoice: filename=MyShell_OpenVoice-0.0.0-0.editable-py3-none-any.whl size=5567 sha256=73bdee2a39585be7ea4369724b9cd818d0a0293a4ebcef5e80cb7bbd7c754d7b\n",
      "  Stored in directory: /tmp/pip-ephem-wheel-cache-fksjiz1y/wheels/19/dd/7b/0686b98584f6d467136c8887e72d7ed51a85c615a7ac1289d5\n",
      "Successfully built MyShell-OpenVoice\n",
      "Installing collected packages: torch, MyShell-OpenVoice\n",
      "  Attempting uninstall: MyShell-OpenVoice\n",
      "    Found existing installation: MyShell-OpenVoice 0.0.0\n",
      "    Uninstalling MyShell-OpenVoice-0.0.0:\n",
      "      Successfully uninstalled MyShell-OpenVoice-0.0.0\n",
      "Successfully installed MyShell-OpenVoice-0.0.0 torch-2.3.1\n"
     ]
    }
   ],
   "source": [
    "!cd OpenVoice && pip install -e ."
   ]
  },
  {
   "cell_type": "markdown",
   "metadata": {},
   "source": [
    "### Setup"
   ]
  },
  {
   "cell_type": "code",
   "execution_count": null,
   "metadata": {},
   "outputs": [],
   "source": [
    "!wget https://myshell-public-repo-host.s3.amazonaws.com/openvoice/checkpoints_v2_0417.zip\n",
    "!unzip checkpoints_v2_0417.zip -d OpenVoice/"
   ]
  },
  {
   "cell_type": "code",
   "execution_count": null,
   "metadata": {},
   "outputs": [],
   "source": [
    "!pip install git+https://github.com/myshell-ai/MeloTTS.git\n",
    "!python -m unidic download"
   ]
  },
  {
   "cell_type": "markdown",
   "metadata": {},
   "source": [
    "### Inference"
   ]
  },
  {
   "cell_type": "code",
   "execution_count": 17,
   "metadata": {},
   "outputs": [],
   "source": [
    "import os, sys\n",
    "\n",
    "# Add the setup_data_vars function as we will need it to find the directory for the training data.\n",
    "dir1 = os.path.abspath(os.path.join(os.path.abspath(''), 'OpenVoice'))\n",
    "if not dir1 in sys.path: sys.path.append(dir1)"
   ]
  },
  {
   "cell_type": "code",
   "execution_count": 18,
   "metadata": {},
   "outputs": [],
   "source": [
    "import torch"
   ]
  },
  {
   "cell_type": "code",
   "execution_count": 19,
   "metadata": {},
   "outputs": [],
   "source": [
    "from openvoice import se_extractor\n",
    "from openvoice.api import ToneColorConverter"
   ]
  },
  {
   "cell_type": "code",
   "execution_count": 20,
   "metadata": {},
   "outputs": [
    {
     "data": {
      "text/plain": [
       "':/home/avzh1/Documents/personal/kirill/lipsync/.venv/lib/python3.10/site-packages/nvidia/cudnn/lib:/usr/local/cuda-8.0/lib64'"
      ]
     },
     "execution_count": 20,
     "metadata": {},
     "output_type": "execute_result"
    }
   ],
   "source": [
    "os.environ['LD_LIBRARY_PATH']"
   ]
  },
  {
   "cell_type": "code",
   "execution_count": 22,
   "metadata": {},
   "outputs": [
    {
     "name": "stdout",
     "output_type": "stream",
     "text": [
      "STARTING CELL EXECUTION\n",
      "Loaded checkpoint '/home/avzh1/Documents/personal/kirill/lipsync/2023QinOpenvoice/OpenVoice/checkpoints_v2/converter/checkpoint.pth'\n",
      "missing/unexpected keys: [] []\n"
     ]
    }
   ],
   "source": [
    "print('STARTING CELL EXECUTION')\n",
    "\n",
    "ckpt_converter = '/home/avzh1/Documents/personal/kirill/lipsync/2023QinOpenvoice/OpenVoice/checkpoints_v2/converter'\n",
    "device = \"cuda:0\" if torch.cuda.is_available() else \"cpu\"\n",
    "output_dir = 'outputs_v2_final'\n",
    "\n",
    "tone_color_converter = ToneColorConverter(f'{ckpt_converter}/config.json', device=device)\n",
    "tone_color_converter.load_ckpt(f'{ckpt_converter}/checkpoint.pth')\n",
    "\n",
    "os.makedirs(output_dir, exist_ok=True)"
   ]
  },
  {
   "cell_type": "markdown",
   "metadata": {},
   "source": [
    "If the below doesn't run because the kernel crashed, run the following in your command terminal:\n",
    "\n",
    "`!find ~+/../../.venv/ -type f -name \"libcudnn_ops_infer.so.8\"`\n",
    "and copy everything before \"libcudnn_ops_infer.so.8\" after the colon:\n",
    "`!export LD_LIBRARY_PATH=$LD_LIBRARY_PATH:<<<WHAT YOU'VE COPIED>>>`"
   ]
  },
  {
   "cell_type": "code",
   "execution_count": 23,
   "metadata": {},
   "outputs": [
    {
     "name": "stdout",
     "output_type": "stream",
     "text": [
      "OpenVoice version: v2\n"
     ]
    }
   ],
   "source": [
    "reference_speaker = '/home/avzh1/Documents/personal/kirill/lipsync/content/reference_voice_cropped.mp3'\n",
    "\n",
    "target_se, audio_name = se_extractor.get_se(reference_speaker, tone_color_converter, vad=False)"
   ]
  },
  {
   "cell_type": "code",
   "execution_count": 24,
   "metadata": {},
   "outputs": [
    {
     "data": {
      "text/plain": [
       "(torch.Size([1, 256, 1]), 'reference_voice_cropped_v2_VhdnIo3u0QF_^o+C0')"
      ]
     },
     "execution_count": 24,
     "metadata": {},
     "output_type": "execute_result"
    }
   ],
   "source": [
    "target_se.shape, audio_name"
   ]
  },
  {
   "cell_type": "code",
   "execution_count": 8,
   "metadata": {},
   "outputs": [
    {
     "name": "stderr",
     "output_type": "stream",
     "text": [
      "[nltk_data] Downloading package averaged_perceptron_tagger_eng to\n",
      "[nltk_data]     /home/avzh1/nltk_data...\n",
      "[nltk_data]   Package averaged_perceptron_tagger_eng is already up-to-\n",
      "[nltk_data]       date!\n"
     ]
    },
    {
     "data": {
      "text/plain": [
       "True"
      ]
     },
     "execution_count": 8,
     "metadata": {},
     "output_type": "execute_result"
    }
   ],
   "source": [
    "import nltk\n",
    "nltk.download('averaged_perceptron_tagger_eng')"
   ]
  },
  {
   "cell_type": "code",
   "execution_count": null,
   "metadata": {},
   "outputs": [],
   "source": [
    "from melo.api import TTS\n",
    "\n",
    "texts = {\n",
    "    'EN_NEWEST': \"Did you ever hear a folk tale about a giant turtle?\",  # The newest English base speaker model\n",
    "    'EN': \"Did you ever hear a folk tale about a giant turtle?\",\n",
    "    'ES': \"El resplandor del sol acaricia las olas, pintando el cielo con una paleta deslumbrante.\",\n",
    "    'FR': \"La lueur dorée du soleil caresse les vagues, peignant le ciel d'une palette éblouissante.\",\n",
    "    'ZH': \"在这次vacation中，我们计划去Paris欣赏埃菲尔铁塔和卢浮宫的美景。\",\n",
    "    'JP': \"彼は毎朝ジョギングをして体を健康に保っています。\",\n",
    "    'KR': \"안녕하세요! 오늘은 날씨가 정말 좋네요.\",\n",
    "}\n",
    "\n",
    "\n",
    "src_path = f'{output_dir}/tmp.wav'\n",
    "\n",
    "# Speed is adjustable\n",
    "speed = 1.0\n",
    "\n",
    "for language, text in texts.items():\n",
    "    model = TTS(language=language, device=device)\n",
    "    speaker_ids = model.hps.data.spk2id\n",
    "    \n",
    "    for speaker_key in speaker_ids.keys():\n",
    "        speaker_id = speaker_ids[speaker_key]\n",
    "        speaker_key = speaker_key.lower().replace('_', '-')\n",
    "        \n",
    "        source_se = torch.load(f'checkpoints_v2/base_speakers/ses/{speaker_key}.pth', map_location=device)\n",
    "        model.tts_to_file(text, speaker_id, src_path, speed=speed)\n",
    "        save_path = f'{output_dir}/output_v2_{speaker_key}.wav'\n",
    "\n",
    "        # Run the tone color converter\n",
    "        encode_message = \"@MyShell\"\n",
    "        tone_color_converter.convert(\n",
    "            audio_src_path=src_path, \n",
    "            src_se=source_se, \n",
    "            tgt_se=target_se, \n",
    "            output_path=save_path,\n",
    "            message=encode_message)"
   ]
  },
  {
   "cell_type": "markdown",
   "metadata": {},
   "source": [
    "# Speech to Speech\n",
    "\n",
    "Intuitively, they use a basal text to speech model to obtain an audio of the text, to then\n",
    "pass through the mimicking pipeline. It is possible to hijack this and provide your own\n",
    "audio file to use."
   ]
  },
  {
   "cell_type": "code",
   "execution_count": 25,
   "metadata": {},
   "outputs": [],
   "source": [
    "# Run the tone color converter\n",
    "encode_message = \"@MyShell\"\n",
    "tone_color_converter.convert(\n",
    "    # audio_src_path=f'/home/avzh1/Documents/personal/kirill/lipsync/content/input_audio.wav', \n",
    "    # audio_src_path=f'/home/avzh1/Documents/personal/kirill/lipsync/content/input_vid.mp4', \n",
    "    audio_src_path = f'/home/avzh1/Documents/personal/kirill/lipsync/content/kirill_audio_original.wav',\n",
    "    src_se=torch.load(f'/home/avzh1/Documents/personal/kirill/lipsync/2023QinOpenvoice/OpenVoice/checkpoints_v2/base_speakers/ses/en-default.pth', map_location=device), \n",
    "    tgt_se=target_se, \n",
    "    output_path=f'{output_dir}/output_v2_default_speech_to_speech.wav',\n",
    "    message=encode_message)"
   ]
  },
  {
   "cell_type": "markdown",
   "metadata": {},
   "source": [
    "# Text to Speech default"
   ]
  },
  {
   "cell_type": "code",
   "execution_count": 45,
   "metadata": {},
   "outputs": [
    {
     "name": "stdout",
     "output_type": "stream",
     "text": [
      " > Text split to sentences.\n",
      "Hello committee! . . . I have decided to quickly dial in myself to endorse Kirill's application for the scholarship personally. . . I wanted to tell you three things about Kirill that made him stand out. . . Firstly, he's creative with technology. . . For example,\n",
      "I am not the real Steve Schwarzman, I am an Ey-eye model trained to mimic him. Artificial Intelligence is a transform-ative phenomenon, a mega trend. We need entrepreneurial people to deploy it. Secondly, he has lots of great stories from his travels. The one where he learned Mongolian throat singing while stranded in a yurt is my favorite!\n",
      "Finally, he's constantly learning! From pod-casts about Ancient Rome, to Singapore's remarkable urban infrastructure . . . Kirill is always and always exploring. He's currently learning Mandarin, and his friend gave him a Chinese name - 聂珂儒 nie ke ru. He would look forward to meeting you all.\n",
      " > ===========================\n"
     ]
    },
    {
     "name": "stderr",
     "output_type": "stream",
     "text": [
      "100%|██████████| 3/3 [00:00<00:00,  3.45it/s]\n"
     ]
    }
   ],
   "source": [
    "from melo.api import TTS\n",
    "\n",
    "src_path = f'{output_dir}/default_customtext.wav'\n",
    "\n",
    "# Speed is adjustable\n",
    "speed = 0.9\n",
    "\n",
    "text = \"\"\"\n",
    "Hello committee! ... I have decided to quickly dial in myself to endorse Kirill's application for the scholarship personally... I wanted to tell you three things about Kirill that made him stand out... Firstly, he's creative with technology... For example, I am not the real Steve Schwarzman, I am an Ey-eye model trained to mimic him. Artificial Intelligence is a transform-ative phenomenon, a mega trend. We need entrepreneurial people to deploy it. Secondly, he has lots of great stories from his travels. The one where he learned Mongolian throat singing while stranded in a yurt is my favorite! Finally, he's constantly learning! From pod-casts about Ancient Rome, to Singapore's remarkable urban infrastructure ... Kirill is always and always exploring. He's currently learning Mandarin, and his friend gave him a Chinese name - 聂珂儒 (nie ke ru). He would look forward to meeting you all.\n",
    "\"\"\"\n",
    "\n",
    "# text = \"Testing the word: mega trend, Testing the word: Ey-eye, Testing the word Ay-eye\"\n",
    "\n",
    "language = \"EN\"\n",
    "\n",
    "model = TTS(language=language, device=device)\n",
    "speaker_ids = model.hps.data.spk2id\n",
    "\n",
    "speaker_key = \"EN-Default\"\n",
    "speaker_id = 4\n",
    "\n",
    "speaker_key = speaker_key.lower().replace('_', '-')\n",
    "    \n",
    "source_se = torch.load(f'OpenVoice/checkpoints_v2/base_speakers/ses/{speaker_key}.pth', map_location=device)\n",
    "model.tts_to_file(text, speaker_id, src_path, speed=speed)\n",
    "save_path = f'{output_dir}/output_v2_{speaker_key}.wav'\n",
    "\n",
    "# Run the tone color converter\n",
    "encode_message = \"@MyShell\"\n",
    "tone_color_converter.convert(\n",
    "    audio_src_path=src_path, \n",
    "    src_se=source_se, \n",
    "    tgt_se=target_se, \n",
    "    output_path=save_path,\n",
    "    message=encode_message)"
   ]
  },
  {
   "cell_type": "code",
   "execution_count": 40,
   "metadata": {},
   "outputs": [
    {
     "name": "stderr",
     "output_type": "stream",
     "text": [
      "/home/avzh1/Documents/personal/kirill/lipsync/.venv/lib/python3.10/site-packages/torch/nn/utils/weight_norm.py:28: UserWarning: torch.nn.utils.weight_norm is deprecated in favor of torch.nn.utils.parametrizations.weight_norm.\n",
      "  warnings.warn(\"torch.nn.utils.weight_norm is deprecated in favor of torch.nn.utils.parametrizations.weight_norm.\")\n"
     ]
    },
    {
     "name": "stdout",
     "output_type": "stream",
     "text": [
      " > Text split to sentences.\n",
      ". . . 聂珂儒 . . .\n",
      " > ===========================\n"
     ]
    },
    {
     "name": "stderr",
     "output_type": "stream",
     "text": [
      "100%|██████████| 1/1 [00:00<00:00,  8.06it/s]\n"
     ]
    },
    {
     "name": "stdout",
     "output_type": "stream",
     "text": [
      "Audio too short, fail to add watermark\n"
     ]
    }
   ],
   "source": [
    "from melo.api import TTS\n",
    "\n",
    "src_path = f'{output_dir}/default_customtext.wav'\n",
    "\n",
    "# Speed is adjustable\n",
    "speed = 1.0\n",
    "\n",
    "text = \"\"\"... 聂珂儒 ...\"\"\"\n",
    "language = \"ZH\"\n",
    "\n",
    "model = TTS(language=language, device=device)\n",
    "speaker_ids = model.hps.data.spk2id\n",
    "\n",
    "model = TTS(language=language, device=device)\n",
    "speaker_ids = model.hps.data.spk2id\n",
    "\n",
    "for speaker_key in speaker_ids.keys():\n",
    "    speaker_id = speaker_ids[speaker_key]\n",
    "    speaker_key = speaker_key.lower().replace('_', '-')\n",
    "    \n",
    "    source_se = torch.load(f'OpenVoice/checkpoints_v2/base_speakers/ses/{speaker_key}.pth', map_location=device)\n",
    "    model.tts_to_file(text, speaker_id, src_path, speed=speed)\n",
    "    save_path = f'{output_dir}/output_v2_{speaker_key}.wav'\n",
    "\n",
    "    # Run the tone color converter\n",
    "    encode_message = \"@MyShell\"\n",
    "    tone_color_converter.convert(\n",
    "        audio_src_path=src_path, \n",
    "        src_se=source_se, \n",
    "        tgt_se=target_se, \n",
    "        output_path=save_path,\n",
    "        message=encode_message)"
   ]
  }
 ],
 "metadata": {
  "kernelspec": {
   "display_name": ".venv",
   "language": "python",
   "name": "python3"
  },
  "language_info": {
   "codemirror_mode": {
    "name": "ipython",
    "version": 3
   },
   "file_extension": ".py",
   "mimetype": "text/x-python",
   "name": "python",
   "nbconvert_exporter": "python",
   "pygments_lexer": "ipython3",
   "version": "3.10.12"
  }
 },
 "nbformat": 4,
 "nbformat_minor": 2
}
