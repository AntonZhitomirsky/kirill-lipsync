{
 "cells": [
  {
   "cell_type": "markdown",
   "metadata": {},
   "source": [
    "Github at https://github.com/ControlNet/MARLIN"
   ]
  },
  {
   "cell_type": "code",
   "execution_count": 11,
   "metadata": {},
   "outputs": [
    {
     "name": "stdout",
     "output_type": "stream",
     "text": [
      "fatal: destination path 'MARLIN' already exists and is not an empty directory.\n",
      "Collecting opencv-python>=4.6 (from -r requirements.txt (line 1))\n",
      "  Using cached opencv_python-4.10.0.84-cp37-abi3-manylinux_2_17_x86_64.manylinux2014_x86_64.whl.metadata (20 kB)\n",
      "Collecting numpy>=1.23 (from -r requirements.txt (line 2))\n",
      "  Using cached numpy-2.1.1-cp310-cp310-manylinux_2_17_x86_64.manylinux2014_x86_64.whl.metadata (60 kB)\n",
      "Collecting einops~=0.4 (from -r requirements.txt (line 3))\n",
      "  Using cached einops-0.8.0-py3-none-any.whl.metadata (12 kB)\n",
      "Collecting torchvision>=0.12.0 (from -r requirements.txt (line 4))\n",
      "  Using cached torchvision-0.19.1-cp310-cp310-manylinux1_x86_64.whl.metadata (6.0 kB)\n",
      "Collecting torch (from -r requirements.txt (line 5))\n",
      "  Using cached torch-2.4.1-cp310-cp310-manylinux1_x86_64.whl.metadata (26 kB)\n",
      "Requirement already satisfied: pyyaml>=6.0 in /home/avzh1/Documents/personal/kirill/lipsync/.venv/lib/python3.10/site-packages (from -r requirements.txt (line 6)) (6.0.2)\n",
      "Requirement already satisfied: tqdm>=4.64.0 in /home/avzh1/Documents/personal/kirill/lipsync/.venv/lib/python3.10/site-packages (from -r requirements.txt (line 7)) (4.66.5)\n",
      "Collecting scikit-image>=0.19.3 (from -r requirements.txt (line 8))\n",
      "  Using cached scikit_image-0.24.0-cp310-cp310-manylinux_2_17_x86_64.manylinux2014_x86_64.whl.metadata (14 kB)\n",
      "Collecting matplotlib>=3.5.2 (from -r requirements.txt (line 9))\n",
      "  Using cached matplotlib-3.9.2-cp310-cp310-manylinux_2_17_x86_64.manylinux2014_x86_64.whl.metadata (11 kB)\n",
      "Requirement already satisfied: pillow>=9.2.0 in /home/avzh1/Documents/personal/kirill/lipsync/.venv/lib/python3.10/site-packages (from -r requirements.txt (line 10)) (10.4.0)\n",
      "Collecting pandas~=1.4.3 (from -r requirements.txt (line 11))\n",
      "  Using cached pandas-1.4.4-cp310-cp310-manylinux_2_17_x86_64.manylinux2014_x86_64.whl.metadata (12 kB)\n",
      "Collecting marlin_pytorch==0.3.4 (from -r requirements.txt (line 12))\n",
      "  Using cached marlin_pytorch-0.3.4-py3-none-any.whl.metadata (10 kB)\n",
      "Collecting pytorch_lightning==1.7.* (from -r requirements.txt (line 13))\n",
      "  Using cached pytorch_lightning-1.7.7-py3-none-any.whl.metadata (27 kB)\n",
      "\u001b[33mWARNING: Ignoring version 1.7.7 of pytorch_lightning since it has invalid metadata:\n",
      "Requested pytorch_lightning==1.7.* from https://files.pythonhosted.org/packages/00/eb/3b2152f9c3a50d265f3e75529254228ace8a86e9a4397f3004f1e3be7825/pytorch_lightning-1.7.7-py3-none-any.whl (from -r requirements.txt (line 13)) has invalid metadata: .* suffix can only be used with `==` or `!=` operators\n",
      "    torch (>=1.9.*)\n",
      "           ~~~~~~^\n",
      "Please use pip<24.1 if you need to use this version.\u001b[0m\u001b[33m\n",
      "\u001b[0m  Using cached pytorch_lightning-1.7.6-py3-none-any.whl.metadata (27 kB)\n",
      "\u001b[33mWARNING: Ignoring version 1.7.6 of pytorch_lightning since it has invalid metadata:\n",
      "Requested pytorch_lightning==1.7.* from https://files.pythonhosted.org/packages/f2/22/37c64bd5b426297c71ecbb01ec2d340f013556a973a2cd6cd0aa68cda1ab/pytorch_lightning-1.7.6-py3-none-any.whl (from -r requirements.txt (line 13)) has invalid metadata: .* suffix can only be used with `==` or `!=` operators\n",
      "    torch (>=1.9.*)\n",
      "           ~~~~~~^\n",
      "Please use pip<24.1 if you need to use this version.\u001b[0m\u001b[33m\n",
      "\u001b[0m  Using cached pytorch_lightning-1.7.5-py3-none-any.whl.metadata (27 kB)\n",
      "\u001b[33mWARNING: Ignoring version 1.7.5 of pytorch_lightning since it has invalid metadata:\n",
      "Requested pytorch_lightning==1.7.* from https://files.pythonhosted.org/packages/d5/9a/de6c20adf8d2a82b322dbe4d7b59266006bc28f53e67d634ecced1eac6c2/pytorch_lightning-1.7.5-py3-none-any.whl (from -r requirements.txt (line 13)) has invalid metadata: .* suffix can only be used with `==` or `!=` operators\n",
      "    torch (>=1.9.*)\n",
      "           ~~~~~~^\n",
      "Please use pip<24.1 if you need to use this version.\u001b[0m\u001b[33m\n",
      "\u001b[0m  Using cached pytorch_lightning-1.7.4-py3-none-any.whl.metadata (27 kB)\n",
      "\u001b[33mWARNING: Ignoring version 1.7.4 of pytorch_lightning since it has invalid metadata:\n",
      "Requested pytorch_lightning==1.7.* from https://files.pythonhosted.org/packages/00/81/40691de5585926a5fe08ee6cac78ae219837948c9dd44a5680221ad9dd4a/pytorch_lightning-1.7.4-py3-none-any.whl (from -r requirements.txt (line 13)) has invalid metadata: .* suffix can only be used with `==` or `!=` operators\n",
      "    torch (>=1.9.*)\n",
      "           ~~~~~~^\n",
      "Please use pip<24.1 if you need to use this version.\u001b[0m\u001b[33m\n",
      "\u001b[0m  Using cached pytorch_lightning-1.7.3-py3-none-any.whl.metadata (27 kB)\n",
      "\u001b[33mWARNING: Ignoring version 1.7.3 of pytorch_lightning since it has invalid metadata:\n",
      "Requested pytorch_lightning==1.7.* from https://files.pythonhosted.org/packages/00/df/6a62b9e0d0ccf2be3e20d8735f63596ff06b8db8f4f4d043d3d8874c1572/pytorch_lightning-1.7.3-py3-none-any.whl (from -r requirements.txt (line 13)) has invalid metadata: .* suffix can only be used with `==` or `!=` operators\n",
      "    torch (>=1.9.*)\n",
      "           ~~~~~~^\n",
      "Please use pip<24.1 if you need to use this version.\u001b[0m\u001b[33m\n",
      "\u001b[0m  Using cached pytorch_lightning-1.7.2-py3-none-any.whl.metadata (27 kB)\n",
      "\u001b[33mWARNING: Ignoring version 1.7.2 of pytorch_lightning since it has invalid metadata:\n",
      "Requested pytorch_lightning==1.7.* from https://files.pythonhosted.org/packages/a1/37/40a0ade0d4bf9abcdae109ec6f306be0e5a8d5d19ae8adce811cbcacedce/pytorch_lightning-1.7.2-py3-none-any.whl (from -r requirements.txt (line 13)) has invalid metadata: .* suffix can only be used with `==` or `!=` operators\n",
      "    torch (>=1.9.*)\n",
      "           ~~~~~~^\n",
      "Please use pip<24.1 if you need to use this version.\u001b[0m\u001b[33m\n",
      "\u001b[0m  Using cached pytorch_lightning-1.7.1-py3-none-any.whl.metadata (27 kB)\n",
      "\u001b[33mWARNING: Ignoring version 1.7.1 of pytorch_lightning since it has invalid metadata:\n",
      "Requested pytorch_lightning==1.7.* from https://files.pythonhosted.org/packages/e4/6f/45345dd52cd24b31dc86d1b0695e2f87dbcf19ec7db8163c18850a1cf7af/pytorch_lightning-1.7.1-py3-none-any.whl (from -r requirements.txt (line 13)) has invalid metadata: .* suffix can only be used with `==` or `!=` operators\n",
      "    torch (>=1.9.*)\n",
      "           ~~~~~~^\n",
      "Please use pip<24.1 if you need to use this version.\u001b[0m\u001b[33m\n",
      "\u001b[0m  Using cached pytorch_lightning-1.7.0-py3-none-any.whl.metadata (27 kB)\n",
      "\u001b[33mWARNING: Ignoring version 1.7.0 of pytorch_lightning since it has invalid metadata:\n",
      "Requested pytorch_lightning==1.7.* from https://files.pythonhosted.org/packages/2f/07/57fd85991eec4311b9945369158bca1322f801686d701322a65789852d46/pytorch_lightning-1.7.0-py3-none-any.whl (from -r requirements.txt (line 13)) has invalid metadata: .* suffix can only be used with `==` or `!=` operators\n",
      "    torch (>=1.9.*)\n",
      "           ~~~~~~^\n",
      "Please use pip<24.1 if you need to use this version.\u001b[0m\u001b[33m\n",
      "\u001b[0m\u001b[31mERROR: Could not find a version that satisfies the requirement pytorch_lightning==1.7.* (from versions: 0.0.2, 0.2, 0.2.2, 0.2.3, 0.2.4, 0.2.4.1, 0.2.5, 0.2.5.1, 0.2.5.2, 0.2.6, 0.3, 0.3.1, 0.3.2, 0.3.3, 0.3.4, 0.3.4.1, 0.3.5, 0.3.6, 0.3.6.1, 0.3.6.3, 0.3.6.4, 0.3.6.5, 0.3.6.6, 0.3.6.7, 0.3.6.8, 0.3.6.9, 0.4.0, 0.4.1, 0.4.2, 0.4.3, 0.4.4, 0.4.5, 0.4.6, 0.4.7, 0.4.8, 0.4.9, 0.5.0, 0.5.1, 0.5.1.2, 0.5.1.3, 0.5.2, 0.5.2.1, 0.5.3, 0.5.3.1, 0.5.3.2, 0.5.3.3, 0.6.0, 0.7.1, 0.7.3, 0.7.5, 0.7.6, 0.8.1, 0.8.3, 0.8.4, 0.8.5, 0.9.0, 0.10.0, 1.0.0, 1.0.1, 1.0.2, 1.0.3, 1.0.4, 1.0.5, 1.0.6, 1.0.7, 1.0.8, 1.1.0, 1.1.1, 1.1.2, 1.1.3, 1.1.4, 1.1.5, 1.1.6, 1.1.7, 1.1.8, 1.2.0rc0, 1.2.0rc1, 1.2.0rc2, 1.2.0, 1.2.1, 1.2.2, 1.2.3, 1.2.4, 1.2.5, 1.2.6, 1.2.7, 1.2.8, 1.2.9, 1.2.10, 1.3.0rc1, 1.3.0rc2, 1.3.0rc3, 1.3.0, 1.3.1, 1.3.2, 1.3.3, 1.3.4, 1.3.5, 1.3.6, 1.3.7, 1.3.7.post0, 1.3.8, 1.4.0rc0, 1.4.0rc1, 1.4.0rc2, 1.4.0, 1.4.1, 1.4.2, 1.4.3, 1.4.4, 1.4.5, 1.4.6, 1.4.7, 1.4.8, 1.4.9, 1.5.0rc0, 1.5.0rc1, 1.5.0, 1.5.1, 1.5.2, 1.5.3, 1.5.4, 1.5.5, 1.5.6, 1.5.7, 1.5.8, 1.5.9, 1.5.10, 1.6.0rc0, 1.6.0rc1, 1.6.0, 1.6.1, 1.6.2, 1.6.3, 1.6.4, 1.6.5, 1.7.0rc0, 1.7.0rc1, 1.7.0, 1.7.1, 1.7.2, 1.7.3, 1.7.4, 1.7.5, 1.7.6, 1.7.7, 1.8.0rc0, 1.8.0rc1, 1.8.0rc2, 1.8.0, 1.8.0.post1, 1.8.1, 1.8.2, 1.8.3, 1.8.3.post0, 1.8.3.post1, 1.8.3.post2, 1.8.4, 1.8.4.post0, 1.8.5, 1.8.5.post0, 1.8.6, 1.9.0rc0, 1.9.0, 1.9.1, 1.9.2, 1.9.3, 1.9.4, 1.9.5, 2.0.0rc0, 2.0.0, 2.0.1, 2.0.1.post0, 2.0.2, 2.0.3, 2.0.4, 2.0.5, 2.0.6, 2.0.7, 2.0.8, 2.0.9, 2.0.9.post0, 2.1.0rc0, 2.1.0rc1, 2.1.0, 2.1.1, 2.1.2, 2.1.3, 2.1.4, 2.2.0rc0, 2.2.0, 2.2.0.post0, 2.2.1, 2.2.2, 2.2.3, 2.2.4, 2.2.5, 2.3.0, 2.3.1, 2.3.2, 2.3.3, 2.4.0)\u001b[0m\u001b[31m\n",
      "\u001b[0m\u001b[31mERROR: No matching distribution found for pytorch_lightning==1.7.*\u001b[0m\u001b[31m\n",
      "\u001b[0mObtaining file:///home/avzh1/Documents/personal/kirill/lipsync/2022Marlin/MARLIN\n",
      "  Installing build dependencies ... \u001b[?25ldone\n",
      "\u001b[?25h  Checking if build backend supports build_editable ... \u001b[?25ldone\n",
      "\u001b[?25h  Getting requirements to build editable ... \u001b[?25ldone\n",
      "\u001b[?25h  Preparing editable metadata (pyproject.toml) ... \u001b[?25ldone\n",
      "\u001b[?25hCollecting torch>=1.8.0 (from marlin_pytorch==0.3.4)\n",
      "  Using cached torch-2.4.1-cp310-cp310-manylinux1_x86_64.whl.metadata (26 kB)\n",
      "Collecting torchvision>=0.9.0 (from marlin_pytorch==0.3.4)\n",
      "  Using cached torchvision-0.19.1-cp310-cp310-manylinux1_x86_64.whl.metadata (6.0 kB)\n",
      "Collecting numpy>=1.10 (from marlin_pytorch==0.3.4)\n",
      "  Using cached numpy-2.1.1-cp310-cp310-manylinux_2_17_x86_64.manylinux2014_x86_64.whl.metadata (60 kB)\n",
      "Collecting einops>=0.1 (from marlin_pytorch==0.3.4)\n",
      "  Using cached einops-0.8.0-py3-none-any.whl.metadata (12 kB)\n",
      "Collecting ffmpeg-python>=0.2.0 (from marlin_pytorch==0.3.4)\n",
      "  Using cached ffmpeg_python-0.2.0-py3-none-any.whl.metadata (1.7 kB)\n",
      "Collecting opencv-python>=4.3 (from marlin_pytorch==0.3.4)\n",
      "  Using cached opencv_python-4.10.0.84-cp37-abi3-manylinux_2_17_x86_64.manylinux2014_x86_64.whl.metadata (20 kB)\n",
      "Collecting av>=6.0 (from marlin_pytorch==0.3.4)\n",
      "  Using cached av-13.0.0-cp310-cp310-manylinux_2_17_x86_64.manylinux2014_x86_64.whl.metadata (4.4 kB)\n",
      "Requirement already satisfied: tqdm>=4.0 in /home/avzh1/Documents/personal/kirill/lipsync/.venv/lib/python3.10/site-packages (from marlin_pytorch==0.3.4) (4.66.5)\n",
      "Requirement already satisfied: pyyaml>=5.0 in /home/avzh1/Documents/personal/kirill/lipsync/.venv/lib/python3.10/site-packages (from marlin_pytorch==0.3.4) (6.0.2)\n",
      "Collecting future (from ffmpeg-python>=0.2.0->marlin_pytorch==0.3.4)\n",
      "  Using cached future-1.0.0-py3-none-any.whl.metadata (4.0 kB)\n",
      "Collecting filelock (from torch>=1.8.0->marlin_pytorch==0.3.4)\n",
      "  Using cached filelock-3.16.0-py3-none-any.whl.metadata (3.0 kB)\n",
      "Requirement already satisfied: typing-extensions>=4.8.0 in /home/avzh1/Documents/personal/kirill/lipsync/.venv/lib/python3.10/site-packages (from torch>=1.8.0->marlin_pytorch==0.3.4) (4.12.2)\n",
      "Requirement already satisfied: sympy in /home/avzh1/Documents/personal/kirill/lipsync/.venv/lib/python3.10/site-packages (from torch>=1.8.0->marlin_pytorch==0.3.4) (1.13.2)\n",
      "Collecting networkx (from torch>=1.8.0->marlin_pytorch==0.3.4)\n",
      "  Using cached networkx-3.3-py3-none-any.whl.metadata (5.1 kB)\n",
      "Collecting jinja2 (from torch>=1.8.0->marlin_pytorch==0.3.4)\n",
      "  Using cached jinja2-3.1.4-py3-none-any.whl.metadata (2.6 kB)\n",
      "Collecting fsspec (from torch>=1.8.0->marlin_pytorch==0.3.4)\n",
      "  Using cached fsspec-2024.9.0-py3-none-any.whl.metadata (11 kB)\n",
      "Collecting nvidia-cuda-nvrtc-cu12==12.1.105 (from torch>=1.8.0->marlin_pytorch==0.3.4)\n",
      "  Using cached nvidia_cuda_nvrtc_cu12-12.1.105-py3-none-manylinux1_x86_64.whl.metadata (1.5 kB)\n",
      "Collecting nvidia-cuda-runtime-cu12==12.1.105 (from torch>=1.8.0->marlin_pytorch==0.3.4)\n",
      "  Using cached nvidia_cuda_runtime_cu12-12.1.105-py3-none-manylinux1_x86_64.whl.metadata (1.5 kB)\n",
      "Collecting nvidia-cuda-cupti-cu12==12.1.105 (from torch>=1.8.0->marlin_pytorch==0.3.4)\n",
      "  Using cached nvidia_cuda_cupti_cu12-12.1.105-py3-none-manylinux1_x86_64.whl.metadata (1.6 kB)\n",
      "Collecting nvidia-cudnn-cu12==9.1.0.70 (from torch>=1.8.0->marlin_pytorch==0.3.4)\n",
      "  Using cached nvidia_cudnn_cu12-9.1.0.70-py3-none-manylinux2014_x86_64.whl.metadata (1.6 kB)\n",
      "Collecting nvidia-cublas-cu12==12.1.3.1 (from torch>=1.8.0->marlin_pytorch==0.3.4)\n",
      "  Using cached nvidia_cublas_cu12-12.1.3.1-py3-none-manylinux1_x86_64.whl.metadata (1.5 kB)\n",
      "Collecting nvidia-cufft-cu12==11.0.2.54 (from torch>=1.8.0->marlin_pytorch==0.3.4)\n",
      "  Using cached nvidia_cufft_cu12-11.0.2.54-py3-none-manylinux1_x86_64.whl.metadata (1.5 kB)\n",
      "Requirement already satisfied: nvidia-curand-cu12==10.3.2.106 in /home/avzh1/Documents/personal/kirill/lipsync/.venv/lib/python3.10/site-packages (from torch>=1.8.0->marlin_pytorch==0.3.4) (10.3.2.106)\n",
      "Collecting nvidia-cusolver-cu12==11.4.5.107 (from torch>=1.8.0->marlin_pytorch==0.3.4)\n",
      "  Using cached nvidia_cusolver_cu12-11.4.5.107-py3-none-manylinux1_x86_64.whl.metadata (1.6 kB)\n",
      "Collecting nvidia-cusparse-cu12==12.1.0.106 (from torch>=1.8.0->marlin_pytorch==0.3.4)\n",
      "  Using cached nvidia_cusparse_cu12-12.1.0.106-py3-none-manylinux1_x86_64.whl.metadata (1.6 kB)\n",
      "Requirement already satisfied: nvidia-nccl-cu12==2.20.5 in /home/avzh1/Documents/personal/kirill/lipsync/.venv/lib/python3.10/site-packages (from torch>=1.8.0->marlin_pytorch==0.3.4) (2.20.5)\n",
      "Requirement already satisfied: nvidia-nvtx-cu12==12.1.105 in /home/avzh1/Documents/personal/kirill/lipsync/.venv/lib/python3.10/site-packages (from torch>=1.8.0->marlin_pytorch==0.3.4) (12.1.105)\n",
      "Collecting triton==3.0.0 (from torch>=1.8.0->marlin_pytorch==0.3.4)\n",
      "  Using cached triton-3.0.0-1-cp310-cp310-manylinux2014_x86_64.manylinux_2_17_x86_64.whl.metadata (1.3 kB)\n",
      "Requirement already satisfied: nvidia-nvjitlink-cu12 in /home/avzh1/Documents/personal/kirill/lipsync/.venv/lib/python3.10/site-packages (from nvidia-cusolver-cu12==11.4.5.107->torch>=1.8.0->marlin_pytorch==0.3.4) (12.6.68)\n",
      "Requirement already satisfied: pillow!=8.3.*,>=5.3.0 in /home/avzh1/Documents/personal/kirill/lipsync/.venv/lib/python3.10/site-packages (from torchvision>=0.9.0->marlin_pytorch==0.3.4) (10.4.0)\n",
      "Collecting MarkupSafe>=2.0 (from jinja2->torch>=1.8.0->marlin_pytorch==0.3.4)\n",
      "  Using cached MarkupSafe-2.1.5-cp310-cp310-manylinux_2_17_x86_64.manylinux2014_x86_64.whl.metadata (3.0 kB)\n",
      "Requirement already satisfied: mpmath<1.4,>=1.1.0 in /home/avzh1/Documents/personal/kirill/lipsync/.venv/lib/python3.10/site-packages (from sympy->torch>=1.8.0->marlin_pytorch==0.3.4) (1.3.0)\n",
      "Using cached av-13.0.0-cp310-cp310-manylinux_2_17_x86_64.manylinux2014_x86_64.whl (33.0 MB)\n",
      "Using cached einops-0.8.0-py3-none-any.whl (43 kB)\n",
      "Using cached ffmpeg_python-0.2.0-py3-none-any.whl (25 kB)\n",
      "Using cached numpy-2.1.1-cp310-cp310-manylinux_2_17_x86_64.manylinux2014_x86_64.whl (16.3 MB)\n",
      "Using cached opencv_python-4.10.0.84-cp37-abi3-manylinux_2_17_x86_64.manylinux2014_x86_64.whl (62.5 MB)\n",
      "Using cached torch-2.4.1-cp310-cp310-manylinux1_x86_64.whl (797.1 MB)\n",
      "Using cached nvidia_cublas_cu12-12.1.3.1-py3-none-manylinux1_x86_64.whl (410.6 MB)\n",
      "Using cached nvidia_cuda_cupti_cu12-12.1.105-py3-none-manylinux1_x86_64.whl (14.1 MB)\n",
      "Using cached nvidia_cuda_nvrtc_cu12-12.1.105-py3-none-manylinux1_x86_64.whl (23.7 MB)\n",
      "Using cached nvidia_cuda_runtime_cu12-12.1.105-py3-none-manylinux1_x86_64.whl (823 kB)\n",
      "Using cached nvidia_cudnn_cu12-9.1.0.70-py3-none-manylinux2014_x86_64.whl (664.8 MB)\n",
      "Using cached nvidia_cufft_cu12-11.0.2.54-py3-none-manylinux1_x86_64.whl (121.6 MB)\n",
      "Using cached nvidia_cusolver_cu12-11.4.5.107-py3-none-manylinux1_x86_64.whl (124.2 MB)\n",
      "Using cached nvidia_cusparse_cu12-12.1.0.106-py3-none-manylinux1_x86_64.whl (196.0 MB)\n",
      "Using cached triton-3.0.0-1-cp310-cp310-manylinux2014_x86_64.manylinux_2_17_x86_64.whl (209.4 MB)\n",
      "Using cached torchvision-0.19.1-cp310-cp310-manylinux1_x86_64.whl (7.0 MB)\n",
      "Using cached filelock-3.16.0-py3-none-any.whl (16 kB)\n",
      "Using cached fsspec-2024.9.0-py3-none-any.whl (179 kB)\n",
      "Using cached future-1.0.0-py3-none-any.whl (491 kB)\n",
      "Using cached jinja2-3.1.4-py3-none-any.whl (133 kB)\n",
      "Using cached networkx-3.3-py3-none-any.whl (1.7 MB)\n",
      "Using cached MarkupSafe-2.1.5-cp310-cp310-manylinux_2_17_x86_64.manylinux2014_x86_64.whl (25 kB)\n",
      "Building wheels for collected packages: marlin_pytorch\n",
      "  Building editable for marlin_pytorch (pyproject.toml) ... \u001b[?25ldone\n",
      "\u001b[?25h  Created wheel for marlin_pytorch: filename=marlin_pytorch-0.3.4-0.editable-py3-none-any.whl size=11380 sha256=acac035c6e5da59fc781a7d6aa5f49408a8ffa63f47ecabff80dfef8df83dd35\n",
      "  Stored in directory: /tmp/pip-ephem-wheel-cache-y449cprx/wheels/95/24/4d/bd13663c89fba1b85bf52aa9432283ab63fdb63b8a788d8d71\n",
      "Successfully built marlin_pytorch\n",
      "Installing collected packages: nvidia-cusparse-cu12, nvidia-cufft-cu12, nvidia-cuda-runtime-cu12, nvidia-cuda-nvrtc-cu12, nvidia-cuda-cupti-cu12, nvidia-cublas-cu12, numpy, networkx, MarkupSafe, future, fsspec, filelock, einops, av, triton, opencv-python, nvidia-cusolver-cu12, nvidia-cudnn-cu12, jinja2, ffmpeg-python, torch, torchvision, marlin_pytorch\n",
      "Successfully installed MarkupSafe-2.1.5 av-13.0.0 einops-0.8.0 ffmpeg-python-0.2.0 filelock-3.16.0 fsspec-2024.9.0 future-1.0.0 jinja2-3.1.4 marlin_pytorch-0.3.4 networkx-3.3 numpy-2.1.1 nvidia-cublas-cu12-12.1.3.1 nvidia-cuda-cupti-cu12-12.1.105 nvidia-cuda-nvrtc-cu12-12.1.105 nvidia-cuda-runtime-cu12-12.1.105 nvidia-cudnn-cu12-9.1.0.70 nvidia-cufft-cu12-11.0.2.54 nvidia-cusolver-cu12-11.4.5.107 nvidia-cusparse-cu12-12.1.0.106 opencv-python-4.10.0.84 torch-2.4.1 torchvision-0.19.1 triton-3.0.0\n"
     ]
    }
   ],
   "source": [
    "!git clone https://github.com/ControlNet/MARLIN.git\n",
    "!cd MARLIN && pip install -r requirements.txt\n",
    "!cd MARLIN && pip install -e ."
   ]
  },
  {
   "cell_type": "code",
   "execution_count": 12,
   "metadata": {},
   "outputs": [
    {
     "data": {
      "text/plain": [
       "'cuda:0'"
      ]
     },
     "execution_count": 12,
     "metadata": {},
     "output_type": "execute_result"
    }
   ],
   "source": [
    "from marlin_pytorch import Marlin\n",
    "import torch\n",
    "\n",
    "# setup cuda device\n",
    "device = 'cuda:0' if torch.cuda.is_available() else 'cpu'\n",
    "device"
   ]
  },
  {
   "cell_type": "markdown",
   "metadata": {},
   "source": [
    "Depending on the size of the GPU, use modes: `marlin_vit_small_ytf`, `marlin_vit_base_ytf`, or `marlin_vit_large_ytf`."
   ]
  },
  {
   "cell_type": "code",
   "execution_count": 13,
   "metadata": {},
   "outputs": [
    {
     "name": "stderr",
     "output_type": "stream",
     "text": [
      "/home/avzh1/Documents/personal/kirill/lipsync/.venv/lib/python3.10/site-packages/marlin_pytorch/model/marlin.py:200: FutureWarning: You are using `torch.load` with `weights_only=False` (the current default value), which uses the default pickle module implicitly. It is possible to construct malicious pickle data which will execute arbitrary code during unpickling (See https://github.com/pytorch/pytorch/blob/main/SECURITY.md#untrusted-models for more details). In a future release, the default value for `weights_only` will be flipped to `True`. This limits the functions that could be executed during unpickling. Arbitrary objects will no longer be allowed to be loaded via this mode unless they are explicitly allowlisted by the user via `torch.serialization.add_safe_globals`. We recommend you start setting `weights_only=True` for any use case where you don't have full control of the loaded file. Please open an issue on GitHub for any issues related to this experimental feature.\n",
      "  state_dict = torch.load(path, map_location=\"cpu\")\n"
     ]
    }
   ],
   "source": [
    "# Load MARLIN model from GitHub Release\n",
    "import os\n",
    "\n",
    "if not os.path.exists('.marlin/marlin_vit_base_tyf.encoder.pt'):\n",
    "    model = Marlin.from_online(\"marlin_vit_small_ytf\")\n",
    "    model = Marlin.from_online(\"marlin_vit_base_ytf\")\n",
    "    model = Marlin.from_online(\"marlin_vit_large_ytf\")\n",
    "\n",
    "# model can be later removed with python line `Marlin.clean_cache()`"
   ]
  },
  {
   "cell_type": "code",
   "execution_count": 14,
   "metadata": {},
   "outputs": [
    {
     "data": {
      "text/plain": [
       "'moved to cuda:0'"
      ]
     },
     "execution_count": 14,
     "metadata": {},
     "output_type": "execute_result"
    }
   ],
   "source": [
    "# second time around you can load it from a file\n",
    "\n",
    "model = Marlin.from_file(\"marlin_vit_small_ytf\", \".marlin/marlin_vit_small_ytf.encoder.pt\")\n",
    "model.to(device)\n",
    "\"moved to \" + device"
   ]
  },
  {
   "cell_type": "markdown",
   "metadata": {},
   "source": [
    "# Try to do forward inference"
   ]
  },
  {
   "cell_type": "code",
   "execution_count": 15,
   "metadata": {},
   "outputs": [
    {
     "ename": "AssertionError",
     "evalue": "",
     "output_type": "error",
     "traceback": [
      "\u001b[0;31m---------------------------------------------------------------------------\u001b[0m",
      "\u001b[0;31mAssertionError\u001b[0m                            Traceback (most recent call last)",
      "Cell \u001b[0;32mIn[15], line 1\u001b[0m\n\u001b[0;32m----> 1\u001b[0m features \u001b[38;5;241m=\u001b[39m \u001b[43mmodel\u001b[49m\u001b[38;5;241;43m.\u001b[39;49m\u001b[43mextract_video\u001b[49m\u001b[43m(\u001b[49m\u001b[38;5;124;43m\"\u001b[39;49m\u001b[38;5;124;43m../content/input_vid.mp4\u001b[39;49m\u001b[38;5;124;43m\"\u001b[39;49m\u001b[43m)\u001b[49m\n",
      "File \u001b[0;32m~/Documents/personal/kirill/lipsync/.venv/lib/python3.10/site-packages/torch/utils/_contextlib.py:116\u001b[0m, in \u001b[0;36mcontext_decorator.<locals>.decorate_context\u001b[0;34m(*args, **kwargs)\u001b[0m\n\u001b[1;32m    113\u001b[0m \u001b[38;5;129m@functools\u001b[39m\u001b[38;5;241m.\u001b[39mwraps(func)\n\u001b[1;32m    114\u001b[0m \u001b[38;5;28;01mdef\u001b[39;00m \u001b[38;5;21mdecorate_context\u001b[39m(\u001b[38;5;241m*\u001b[39margs, \u001b[38;5;241m*\u001b[39m\u001b[38;5;241m*\u001b[39mkwargs):\n\u001b[1;32m    115\u001b[0m     \u001b[38;5;28;01mwith\u001b[39;00m ctx_factory():\n\u001b[0;32m--> 116\u001b[0m         \u001b[38;5;28;01mreturn\u001b[39;00m \u001b[43mfunc\u001b[49m\u001b[43m(\u001b[49m\u001b[38;5;241;43m*\u001b[39;49m\u001b[43margs\u001b[49m\u001b[43m,\u001b[49m\u001b[43m \u001b[49m\u001b[38;5;241;43m*\u001b[39;49m\u001b[38;5;241;43m*\u001b[39;49m\u001b[43mkwargs\u001b[49m\u001b[43m)\u001b[49m\n",
      "File \u001b[0;32m~/Documents/personal/kirill/lipsync/.venv/lib/python3.10/site-packages/marlin_pytorch/model/marlin.py:140\u001b[0m, in \u001b[0;36mMarlin.extract_video\u001b[0;34m(self, video_path, crop_face, sample_rate, stride, reduction, keep_seq, detector_device)\u001b[0m\n\u001b[1;32m    135\u001b[0m             FaceXZooFaceDetector\u001b[38;5;241m.\u001b[39minit(\n\u001b[1;32m    136\u001b[0m                 face_sdk_path\u001b[38;5;241m=\u001b[39mFaceXZooFaceDetector\u001b[38;5;241m.\u001b[39minstall(os\u001b[38;5;241m.\u001b[39mpath\u001b[38;5;241m.\u001b[39mjoin(\u001b[38;5;124m\"\u001b[39m\u001b[38;5;124m.marlin\u001b[39m\u001b[38;5;124m\"\u001b[39m, \u001b[38;5;124m\"\u001b[39m\u001b[38;5;124mFaceXZoo\u001b[39m\u001b[38;5;124m\"\u001b[39m)),\n\u001b[1;32m    137\u001b[0m                 device\u001b[38;5;241m=\u001b[39mdetector_device \u001b[38;5;129;01mor\u001b[39;00m \u001b[38;5;28mself\u001b[39m\u001b[38;5;241m.\u001b[39mdevice\n\u001b[1;32m    138\u001b[0m             )\n\u001b[1;32m    139\u001b[0m         v \u001b[38;5;241m=\u001b[39m \u001b[38;5;28mself\u001b[39m\u001b[38;5;241m.\u001b[39m_crop_face(v)\n\u001b[0;32m--> 140\u001b[0m     \u001b[38;5;28;01massert\u001b[39;00m v\u001b[38;5;241m.\u001b[39mshape[\u001b[38;5;241m3\u001b[39m:] \u001b[38;5;241m==\u001b[39m (\u001b[38;5;241m224\u001b[39m, \u001b[38;5;241m224\u001b[39m)\n\u001b[1;32m    141\u001b[0m     features\u001b[38;5;241m.\u001b[39mappend(\u001b[38;5;28mself\u001b[39m\u001b[38;5;241m.\u001b[39mextract_features(v, keep_seq\u001b[38;5;241m=\u001b[39mkeep_seq))\n\u001b[1;32m    143\u001b[0m features \u001b[38;5;241m=\u001b[39m torch\u001b[38;5;241m.\u001b[39mcat(features)  \u001b[38;5;66;03m# (N, 768)\u001b[39;00m\n",
      "\u001b[0;31mAssertionError\u001b[0m: "
     ]
    }
   ],
   "source": [
    "features = model.extract_video(\"../content/input_vid.mp4\")"
   ]
  },
  {
   "cell_type": "code",
   "execution_count": 5,
   "metadata": {},
   "outputs": [],
   "source": [
    "import ffmpeg\n"
   ]
  },
  {
   "cell_type": "markdown",
   "metadata": {},
   "source": [
    "# Train the model"
   ]
  }
 ],
 "metadata": {
  "kernelspec": {
   "display_name": ".venv",
   "language": "python",
   "name": "python3"
  },
  "language_info": {
   "codemirror_mode": {
    "name": "ipython",
    "version": 3
   },
   "file_extension": ".py",
   "mimetype": "text/x-python",
   "name": "python",
   "nbconvert_exporter": "python",
   "pygments_lexer": "ipython3",
   "version": "3.10.12"
  }
 },
 "nbformat": 4,
 "nbformat_minor": 2
}
