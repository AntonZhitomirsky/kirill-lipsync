{
 "cells": [
  {
   "cell_type": "code",
   "execution_count": null,
   "metadata": {},
   "outputs": [],
   "source": [
    "# Install requirements for a potentially new environment, including any other applications\n",
    "# involved in pipeline\n",
    "\n",
    "!git clone https://github.com/zabique/Wav2Lip\n",
    "!cd Wav2Lip && pip install -r requirements.txt\n",
    "!cd Wav2Lip && ./scripts/download_models.sh\n",
    "\n",
    "!pip install yt-dlp\n",
    "!apt install ffmpeg # (might need to sudo install)"
   ]
  },
  {
   "cell_type": "code",
   "execution_count": 7,
   "metadata": {},
   "outputs": [],
   "source": [
    "import os\n",
    "\n",
    "# make sure that the input video and audio is present\n",
    "\n",
    "assert os.path.exists('../content/input_audio.wav'), \"input audio doesn't exist, check path '../content/input_audio.wav'\"\n",
    "assert os.path.exists('../content/input_vid.mp4'), \"input video doesn't exist, check path '../content/input_vid.mp4' or run the script at that location\""
   ]
  },
  {
   "cell_type": "code",
   "execution_count": 10,
   "metadata": {},
   "outputs": [
    {
     "name": "stdout",
     "output_type": "stream",
     "text": [
      "Using cuda for inference.\n",
      "Load checkpoint from: checkpoints/wav2lip_gan.pth\n",
      "Models loaded\n",
      "Reading video frames...\n",
      "Number of frames available for inference: 264\n",
      "(80, 881)\n",
      "Length of mel chunks: 261\n",
      "  0%|                                                     | 0/3 [00:00<?, ?it/s]face detect time: 1.5979411602020264\n",
      "100%|█████████████████████████████████████████████| 3/3 [00:02<00:00,  1.15it/s]\n",
      "wav2lip prediction time: 2.6095988750457764\n",
      "ffmpeg version 4.4.2-0ubuntu0.22.04.1 Copyright (c) 2000-2021 the FFmpeg developers\n",
      "  built with gcc 11 (Ubuntu 11.2.0-19ubuntu1)\n",
      "  configuration: --prefix=/usr --extra-version=0ubuntu0.22.04.1 --toolchain=hardened --libdir=/usr/lib/x86_64-linux-gnu --incdir=/usr/include/x86_64-linux-gnu --arch=amd64 --enable-gpl --disable-stripping --enable-gnutls --enable-ladspa --enable-libaom --enable-libass --enable-libbluray --enable-libbs2b --enable-libcaca --enable-libcdio --enable-libcodec2 --enable-libdav1d --enable-libflite --enable-libfontconfig --enable-libfreetype --enable-libfribidi --enable-libgme --enable-libgsm --enable-libjack --enable-libmp3lame --enable-libmysofa --enable-libopenjpeg --enable-libopenmpt --enable-libopus --enable-libpulse --enable-librabbitmq --enable-librubberband --enable-libshine --enable-libsnappy --enable-libsoxr --enable-libspeex --enable-libsrt --enable-libssh --enable-libtheora --enable-libtwolame --enable-libvidstab --enable-libvorbis --enable-libvpx --enable-libwebp --enable-libx265 --enable-libxml2 --enable-libxvid --enable-libzimg --enable-libzmq --enable-libzvbi --enable-lv2 --enable-omx --enable-openal --enable-opencl --enable-opengl --enable-sdl2 --enable-pocketsphinx --enable-librsvg --enable-libmfx --enable-libdc1394 --enable-libdrm --enable-libiec61883 --enable-chromaprint --enable-frei0r --enable-libx264 --enable-shared\n",
      "  libavutil      56. 70.100 / 56. 70.100\n",
      "  libavcodec     58.134.100 / 58.134.100\n",
      "  libavformat    58. 76.100 / 58. 76.100\n",
      "  libavdevice    58. 13.100 / 58. 13.100\n",
      "  libavfilter     7.110.100 /  7.110.100\n",
      "  libswscale      5.  9.100 /  5.  9.100\n",
      "  libswresample   3.  9.100 /  3.  9.100\n",
      "  libpostproc    55.  9.100 / 55.  9.100\n",
      "Input #0, avi, from 'temp/result.avi':\n",
      "  Metadata:\n",
      "    software        : Lavf59.27.100\n",
      "  Duration: 00:00:10.89, start: 0.000000, bitrate: 670 kb/s\n",
      "  Stream #0:0: Video: mpeg4 (Simple Profile) (DIVX / 0x58564944), yuv420p, 852x480 [SAR 1:1 DAR 71:40], 663 kb/s, 23.98 fps, 23.98 tbr, 23.98 tbn, 2997 tbc\n",
      "\u001b[0;33mGuessed Channel Layout for Input Stream #1.0 : stereo\n",
      "\u001b[0mInput #1, wav, from '../../content/input_audio.wav':\n",
      "  Duration: 00:00:11.01, bitrate: 1411 kb/s\n",
      "  Stream #1:0: Audio: pcm_s16le ([1][0][0][0] / 0x0001), 44100 Hz, stereo, s16, 1411 kb/s\n",
      "Stream mapping:\n",
      "  Stream #0:0 -> #0:0 (mpeg4 (native) -> h264 (libx264))\n",
      "  Stream #1:0 -> #0:1 (pcm_s16le (native) -> aac (native))\n",
      "Press [q] to stop, [?] for help\n",
      "\u001b[1;36m[libx264 @ 0x59a1fd92a700] \u001b[0musing SAR=1/1\n",
      "\u001b[1;36m[libx264 @ 0x59a1fd92a700] \u001b[0musing cpu capabilities: MMX2 SSE2Fast SSSE3 SSE4.2 AVX FMA3 BMI2 AVX2\n",
      "\u001b[1;36m[libx264 @ 0x59a1fd92a700] \u001b[0mprofile High, level 3.0, 4:2:0, 8-bit\n",
      "\u001b[1;36m[libx264 @ 0x59a1fd92a700] \u001b[0m264 - core 163 r3060 5db6aa6 - H.264/MPEG-4 AVC codec - Copyleft 2003-2021 - http://www.videolan.org/x264.html - options: cabac=1 ref=3 deblock=1:0:0 analyse=0x3:0x113 me=hex subme=7 psy=1 psy_rd=1.00:0.00 mixed_ref=1 me_range=16 chroma_me=1 trellis=1 8x8dct=1 cqm=0 deadzone=21,11 fast_pskip=1 chroma_qp_offset=-2 threads=15 lookahead_threads=2 sliced_threads=0 nr=0 decimate=1 interlaced=0 bluray_compat=0 constrained_intra=0 bframes=3 b_pyramid=2 b_adapt=1 b_bias=0 direct=1 weightb=1 open_gop=0 weightp=2 keyint=250 keyint_min=23 scenecut=40 intra_refresh=0 rc_lookahead=40 rc=crf mbtree=1 crf=23.0 qcomp=0.60 qpmin=0 qpmax=69 qpstep=4 ip_ratio=1.40 aq=1:1.00\n",
      "Output #0, mp4, to 'results/result_voice.mp4':\n",
      "  Metadata:\n",
      "    software        : Lavf59.27.100\n",
      "    encoder         : Lavf58.76.100\n",
      "  Stream #0:0: Video: h264 (avc1 / 0x31637661), yuv420p(progressive), 852x480 [SAR 1:1 DAR 71:40], q=2-31, 23.98 fps, 24k tbn\n",
      "    Metadata:\n",
      "      encoder         : Lavc58.134.100 libx264\n",
      "    Side data:\n",
      "      cpb: bitrate max/min/avg: 0/0/0 buffer size: 0 vbv_delay: N/A\n",
      "  Stream #0:1: Audio: aac (LC) (mp4a / 0x6134706D), 44100 Hz, stereo, fltp, 128 kb/s\n",
      "    Metadata:\n",
      "      encoder         : Lavc58.134.100 aac\n",
      "frame=  261 fps=218 q=-1.0 Lsize=     625kB time=00:00:10.98 bitrate= 466.2kbits/s speed=9.19x    \n",
      "video:443kB audio:173kB subtitle:0kB other streams:0kB global headers:0kB muxing overhead: 1.483585%\n",
      "\u001b[1;36m[libx264 @ 0x59a1fd92a700] \u001b[0mframe I:2     Avg QP:18.54  size: 19714\n",
      "\u001b[1;36m[libx264 @ 0x59a1fd92a700] \u001b[0mframe P:147   Avg QP:20.25  size:  2499\n",
      "\u001b[1;36m[libx264 @ 0x59a1fd92a700] \u001b[0mframe B:112   Avg QP:24.61  size:   415\n",
      "\u001b[1;36m[libx264 @ 0x59a1fd92a700] \u001b[0mconsecutive B-frames: 28.7% 40.6%  4.6% 26.1%\n",
      "\u001b[1;36m[libx264 @ 0x59a1fd92a700] \u001b[0mmb I  I16..4: 19.0% 73.6%  7.4%\n",
      "\u001b[1;36m[libx264 @ 0x59a1fd92a700] \u001b[0mmb P  I16..4:  0.7%  3.1%  0.1%  P16..4: 17.9%  5.1%  3.6%  0.0%  0.0%    skip:69.5%\n",
      "\u001b[1;36m[libx264 @ 0x59a1fd92a700] \u001b[0mmb B  I16..4:  0.1%  0.4%  0.0%  B16..8: 19.6%  0.3%  0.0%  direct: 0.1%  skip:79.3%  L0:44.7% L1:54.3% BI: 1.0%\n",
      "\u001b[1;36m[libx264 @ 0x59a1fd92a700] \u001b[0m8x8 transform intra:78.6% inter:80.3%\n",
      "\u001b[1;36m[libx264 @ 0x59a1fd92a700] \u001b[0mcoded y,uvDC,uvAC intra: 55.8% 61.7% 14.4% inter: 4.9% 5.6% 0.3%\n",
      "\u001b[1;36m[libx264 @ 0x59a1fd92a700] \u001b[0mi16 v,h,dc,p: 49% 28% 15%  8%\n",
      "\u001b[1;36m[libx264 @ 0x59a1fd92a700] \u001b[0mi8 v,h,dc,ddl,ddr,vr,hd,vl,hu: 38% 17% 34%  2%  2%  2%  2%  2%  2%\n",
      "\u001b[1;36m[libx264 @ 0x59a1fd92a700] \u001b[0mi4 v,h,dc,ddl,ddr,vr,hd,vl,hu: 44% 24% 15%  2%  4%  4%  3%  2%  1%\n",
      "\u001b[1;36m[libx264 @ 0x59a1fd92a700] \u001b[0mi8c dc,h,v,p: 36% 22% 37%  5%\n",
      "\u001b[1;36m[libx264 @ 0x59a1fd92a700] \u001b[0mWeighted P-Frames: Y:0.0% UV:0.0%\n",
      "\u001b[1;36m[libx264 @ 0x59a1fd92a700] \u001b[0mref P L0: 73.2% 12.5% 10.4%  3.8%\n",
      "\u001b[1;36m[libx264 @ 0x59a1fd92a700] \u001b[0mref B L0: 84.2% 14.1%  1.7%\n",
      "\u001b[1;36m[libx264 @ 0x59a1fd92a700] \u001b[0mref B L1: 98.8%  1.2%\n",
      "\u001b[1;36m[libx264 @ 0x59a1fd92a700] \u001b[0mkb/s:333.06\n",
      "\u001b[1;36m[aac @ 0x59a1fd92ba00] \u001b[0mQavg: 178.309\n"
     ]
    }
   ],
   "source": [
    "# Define the parameters for the Wav2Lip model\n",
    "pad_top = 0\n",
    "pad_bottom = 10\n",
    "pad_left = 0\n",
    "pad_right = 0\n",
    "rescaleFactor = 1\n",
    "nosmooth = False\n",
    "\n",
    "# Set the path to the Wav2Lip model and input files\n",
    "checkpoint_path = \"checkpoints/wav2lip_gan.pth\"\n",
    "input_face = \"../../content/input_vid.mp4\"\n",
    "input_audio = \"../../content/input_audio.wav\"\n",
    "\n",
    "# Run the Wav2Lip model\n",
    "!cd Wav2Lip && python inference.py --checkpoint_path {checkpoint_path} --face {input_face} --audio {input_audio} --pads {pad_top} {pad_bottom} {pad_left} {pad_right} --resize_factor {rescaleFactor} {\"--nosmooth\" if nosmooth else \"\"}"
   ]
  },
  {
   "cell_type": "code",
   "execution_count": null,
   "metadata": {},
   "outputs": [],
   "source": [
    "# copy over the result from the library into the corresponding location\n",
    "\n",
    "import os\n",
    "import shutil\n",
    "\n",
    "shutil.move(\"Wav2Lip/results/result_voice.mp4\", \"result_voice.mp4\")"
   ]
  }
 ],
 "metadata": {
  "kernelspec": {
   "display_name": ".venv",
   "language": "python",
   "name": "python3"
  },
  "language_info": {
   "codemirror_mode": {
    "name": "ipython",
    "version": 3
   },
   "file_extension": ".py",
   "mimetype": "text/x-python",
   "name": "python",
   "nbconvert_exporter": "python",
   "pygments_lexer": "ipython3",
   "version": "3.10.12"
  }
 },
 "nbformat": 4,
 "nbformat_minor": 2
}
